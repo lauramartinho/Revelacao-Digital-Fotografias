{
 "cells": [
  {
   "cell_type": "markdown",
   "id": "f8b7b945-ff07-4791-926d-c5a2567b67d3",
   "metadata": {},
   "source": [
    "# Transformando imagem filtro negativo\n",
    "**Utilizando Python e Biblioteca OpenCV**  \n",
    "*Laura Martinho*"
   ]
  },
  {
   "cell_type": "markdown",
   "id": "59f1d0c4-ce53-4385-b07c-ce1011ec26af",
   "metadata": {},
   "source": [
    "## Importando bibliotecas"
   ]
  },
  {
   "cell_type": "code",
   "execution_count": 1,
   "id": "b9d6bcff-6dfb-4b22-bf90-abe6a80d12b2",
   "metadata": {
    "tags": []
   },
   "outputs": [],
   "source": [
    "import cv2\n",
    "import numpy as np"
   ]
  },
  {
   "cell_type": "markdown",
   "id": "4ff69e99-dd3b-4fed-93b4-da8c1c2e79e0",
   "metadata": {},
   "source": [
    "## Lendo a Imagem"
   ]
  },
  {
   "cell_type": "code",
   "execution_count": 2,
   "id": "0bef731c-b78d-4692-9e93-0a2085e0e0fe",
   "metadata": {},
   "outputs": [],
   "source": [
    "original = np.array(cv2.imread(\"sources/foto2.jpg\"))"
   ]
  },
  {
   "cell_type": "markdown",
   "id": "d93d342d-ab9e-481e-abe4-193b3a4d5664",
   "metadata": {},
   "source": [
    "## Declarando uma variável para guardar a imagem final"
   ]
  },
  {
   "cell_type": "code",
   "execution_count": 3,
   "id": "90c2d2a6-7b23-4d5b-9c31-f080b57e960f",
   "metadata": {},
   "outputs": [],
   "source": [
    "resultado = original"
   ]
  },
  {
   "cell_type": "markdown",
   "id": "bdd6349b-53bf-4fb2-a6e2-89559a66b885",
   "metadata": {},
   "source": [
    "## Calculando o valor inverso da imagem"
   ]
  },
  {
   "cell_type": "markdown",
   "id": "65fdba15-fc76-4ba4-9917-924d9ca443d3",
   "metadata": {},
   "source": [
    "*Existem duas formas de fazer*\n",
    "- *simplesmente diminuir 255 de toda a imagem (pixels)*"
   ]
  },
  {
   "cell_type": "code",
   "execution_count": 4,
   "id": "9f40e203-0426-4bba-972b-f0c4c19082dc",
   "metadata": {},
   "outputs": [],
   "source": [
    "#resultado = 255 - original"
   ]
  },
  {
   "cell_type": "markdown",
   "id": "1df5683e-3e2b-4035-8e46-2ac77663bc0c",
   "metadata": {},
   "source": [
    "- *ou diminuir 255 do valor do pixel em matriz*"
   ]
  },
  {
   "cell_type": "code",
   "execution_count": 5,
   "id": "6570a7bf-228d-4970-a57d-944685742efb",
   "metadata": {
    "tags": []
   },
   "outputs": [],
   "source": [
    "for i in range(0, len(original)):\n",
    "    for j in range(0, len(original[i])):\n",
    "        resultado[i][j] = 255 - original[i][j]"
   ]
  },
  {
   "cell_type": "markdown",
   "id": "d00a2bc4-339c-4687-8c35-a825b95f1db3",
   "metadata": {},
   "source": [
    "## Salvando a Imagem final"
   ]
  },
  {
   "cell_type": "code",
   "execution_count": 6,
   "id": "2ffe865f-fd55-409c-9630-7fb534c0c0d1",
   "metadata": {
    "tags": []
   },
   "outputs": [
    {
     "data": {
      "text/plain": [
       "True"
      ]
     },
     "execution_count": 6,
     "metadata": {},
     "output_type": "execute_result"
    }
   ],
   "source": [
    "cv2.imwrite(\"sources/fotoi2.jpg\",resultado)"
   ]
  },
  {
   "cell_type": "code",
   "execution_count": null,
   "id": "5a1da9bc-6b56-48fe-b24f-7789ca28da69",
   "metadata": {},
   "outputs": [],
   "source": []
  }
 ],
 "metadata": {
  "kernelspec": {
   "display_name": "Python 3",
   "language": "python",
   "name": "python3"
  },
  "language_info": {
   "codemirror_mode": {
    "name": "ipython",
    "version": 3
   },
   "file_extension": ".py",
   "mimetype": "text/x-python",
   "name": "python",
   "nbconvert_exporter": "python",
   "pygments_lexer": "ipython3",
   "version": "3.9.6"
  }
 },
 "nbformat": 4,
 "nbformat_minor": 5
}
