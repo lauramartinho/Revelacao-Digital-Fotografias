{
 "cells": [
  {
   "cell_type": "code",
   "execution_count": 3,
   "id": "91165b8e-a6b6-4d41-837f-bd96ef4973e7",
   "metadata": {},
   "outputs": [
    {
     "data": {
      "text/plain": [
       "True"
      ]
     },
     "execution_count": 3,
     "metadata": {},
     "output_type": "execute_result"
    }
   ],
   "source": [
    "import cv2\n",
    "import numpy as np\n",
    "  \n",
    "# Function to map each intensity level to output intensity level.\n",
    "def pixelVal(pix, r1, s1, r2, s2):\n",
    "    if (0 <= pix and pix <= r1):\n",
    "        return (s1 / r1)*pix\n",
    "    elif (r1 < pix and pix <= r2):\n",
    "        return ((s2 - s1)/(r2 - r1)) * (pix - r1) + s1\n",
    "    else:\n",
    "        return ((255 - s2)/(255 - r2)) * (pix - r2) + s2\n",
    "  \n",
    "#Open the image.\n",
    "img = cv2.imread('st.jpg')\n",
    "  \n",
    "# Define parameters.\n",
    "r1 = 70\n",
    "s1 = 0\n",
    "r2 = 140\n",
    "s2 = 255\n",
    "  \n",
    "# Vectorize the function to apply it to each value in the Numpy array.\n",
    "pixelVal_vec = np.vectorize(pixelVal)\n",
    "  \n",
    "# Apply contrast stretching.\n",
    "contrast_stretched = pixelVal_vec(img, r1, s1, r2, s2)\n",
    "  \n",
    "# Save edited image.\n",
    "cv2.imwrite('contrast_stretch.jpg', contrast_stretched)"
   ]
  },
  {
   "cell_type": "code",
   "execution_count": null,
   "id": "2c2de871-5470-42bc-9fe6-3e6f5bd758e5",
   "metadata": {},
   "outputs": [],
   "source": []
  }
 ],
 "metadata": {
  "kernelspec": {
   "display_name": "Python 3",
   "language": "python",
   "name": "python3"
  },
  "language_info": {
   "codemirror_mode": {
    "name": "ipython",
    "version": 3
   },
   "file_extension": ".py",
   "mimetype": "text/x-python",
   "name": "python",
   "nbconvert_exporter": "python",
   "pygments_lexer": "ipython3",
   "version": "3.9.6"
  }
 },
 "nbformat": 4,
 "nbformat_minor": 5
}
