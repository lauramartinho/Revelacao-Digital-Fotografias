{
 "cells": [
  {
   "cell_type": "code",
   "execution_count": 13,
   "id": "b47765a1-ae21-4e2b-9038-81052812c3a7",
   "metadata": {},
   "outputs": [
    {
     "data": {
      "text/plain": [
       "True"
      ]
     },
     "execution_count": 13,
     "metadata": {},
     "output_type": "execute_result"
    }
   ],
   "source": [
    "import cv2\n",
    "import numpy\n",
    " \n",
    "img = cv2.imread('sources/fotopb2.jpg')\n",
    "img_to_yuv = cv2.cvtColor(img,cv2.COLOR_BGR2YUV)\n",
    "img_to_yuv[:,:,0] = cv2.equalizeHist(img_to_yuv[:,:,0])\n",
    "hist_equalization_result = cv2.cvtColor(img_to_yuv, cv2.COLOR_YUV2BGR)\n",
    " \n",
    "cv2.imwrite('sources/revelada2.jpg',hist_equalization_result)"
   ]
  },
  {
   "cell_type": "code",
   "execution_count": null,
   "id": "2d65ae58-51cc-483b-9816-d7494c195d69",
   "metadata": {},
   "outputs": [],
   "source": []
  }
 ],
 "metadata": {
  "kernelspec": {
   "display_name": "Python 3",
   "language": "python",
   "name": "python3"
  },
  "language_info": {
   "codemirror_mode": {
    "name": "ipython",
    "version": 3
   },
   "file_extension": ".py",
   "mimetype": "text/x-python",
   "name": "python",
   "nbconvert_exporter": "python",
   "pygments_lexer": "ipython3",
   "version": "3.9.6"
  }
 },
 "nbformat": 4,
 "nbformat_minor": 5
}
