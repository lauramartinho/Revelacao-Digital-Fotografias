{
 "cells": [
  {
   "cell_type": "markdown",
   "id": "f8b7b945-ff07-4791-926d-c5a2567b67d3",
   "metadata": {},
   "source": [
    "# Transformando imagem filtro negativo\n",
    "**Utilizando Python e Biblioteca OpenCV**  \n",
    "*Laura Martinho*"
   ]
  },
  {
   "cell_type": "markdown",
   "id": "59f1d0c4-ce53-4385-b07c-ce1011ec26af",
   "metadata": {},
   "source": [
    "## Importando bibliotecas"
   ]
  },
  {
   "cell_type": "code",
   "execution_count": 10,
   "id": "b9d6bcff-6dfb-4b22-bf90-abe6a80d12b2",
   "metadata": {
    "tags": []
   },
   "outputs": [],
   "source": [
    "import cv2\n",
    "import numpy as np"
   ]
  },
  {
   "cell_type": "markdown",
   "id": "4ff69e99-dd3b-4fed-93b4-da8c1c2e79e0",
   "metadata": {},
   "source": [
    "## Lendo a Imagem"
   ]
  },
  {
   "cell_type": "code",
   "execution_count": 11,
   "id": "0bef731c-b78d-4692-9e93-0a2085e0e0fe",
   "metadata": {},
   "outputs": [],
   "source": [
    "negativo = np.array(cv2.imread(\"fotografia.jpg\"))"
   ]
  },
  {
   "cell_type": "markdown",
   "id": "d93d342d-ab9e-481e-abe4-193b3a4d5664",
   "metadata": {},
   "source": [
    "## Declarando uma variável para guardar a imagem final"
   ]
  },
  {
   "cell_type": "code",
   "execution_count": 12,
   "id": "90c2d2a6-7b23-4d5b-9c31-f080b57e960f",
   "metadata": {},
   "outputs": [],
   "source": [
    "resultado = negativo"
   ]
  },
  {
   "cell_type": "markdown",
   "id": "bdd6349b-53bf-4fb2-a6e2-89559a66b885",
   "metadata": {},
   "source": [
    "## Calculando o valor inverso da imagem"
   ]
  },
  {
   "cell_type": "markdown",
   "id": "65fdba15-fc76-4ba4-9917-924d9ca443d3",
   "metadata": {},
   "source": [
    "*Existem duas formas de fazer*\n",
    "- *simplesmente diminuir 255 de toda a imagem (pixels)*"
   ]
  },
  {
   "cell_type": "code",
   "execution_count": 13,
   "id": "9f40e203-0426-4bba-972b-f0c4c19082dc",
   "metadata": {},
   "outputs": [],
   "source": [
    "#resultado = 255 - original"
   ]
  },
  {
   "cell_type": "markdown",
   "id": "1df5683e-3e2b-4035-8e46-2ac77663bc0c",
   "metadata": {},
   "source": [
    "- *ou diminuir 255 do valor do pixel em matriz*"
   ]
  },
  {
   "cell_type": "code",
   "execution_count": null,
   "id": "6570a7bf-228d-4970-a57d-944685742efb",
   "metadata": {
    "tags": []
   },
   "outputs": [],
   "source": [
    "for i in range(0, len(negativo)):\n",
    "    for j in range(0, len(negativo[i])):\n",
    "        resultado[i][j] = 255 - negativo[i][j]"
   ]
  },
  {
   "cell_type": "markdown",
   "id": "2294e03f-a7f9-4db2-9a18-e37e1535cd7c",
   "metadata": {},
   "source": [
    "## Transformando para a escala de cinza"
   ]
  },
  {
   "cell_type": "code",
   "execution_count": null,
   "id": "eb899684-4c69-4ce0-be54-5dd0dc7dc806",
   "metadata": {},
   "outputs": [],
   "source": [
    "R, G, B = resultado[:,:,0], resultado[:,:,1], resultado[:,:,2]\n",
    "imgPB = 0.2989 * R + 0.5870 * G + 0.1140 * B"
   ]
  },
  {
   "cell_type": "markdown",
   "id": "13b3f652-7ee6-47d9-a9bf-596096b90f9f",
   "metadata": {},
   "source": [
    "## Salvando a Imagem em escala de cinza"
   ]
  },
  {
   "cell_type": "code",
   "execution_count": null,
   "id": "2ffe865f-fd55-409c-9630-7fb534c0c0d1",
   "metadata": {
    "tags": []
   },
   "outputs": [],
   "source": [
    "cv2.imwrite(\"imgPB.jpg\",imgPB)"
   ]
  },
  {
   "cell_type": "markdown",
   "id": "2f358785-a3ad-43e7-9206-ff7040b61f4e",
   "metadata": {},
   "source": [
    "## Equalizando contraste da imagem\n",
    "*Diversas formas de corrigir o contraste*\n",
    "- *Com correção Gama*"
   ]
  },
  {
   "cell_type": "code",
   "execution_count": null,
   "id": "0790822e-a689-4474-956d-899aa980eefc",
   "metadata": {},
   "outputs": [],
   "source": [
    "# 4 valores \n",
    "#for gamma in [2.0]: #0.1, 0.5, 1.2, 2.2 \n",
    "#    gamma_corrected = np.array(255*(imgPB / 255) ** gamma, dtype = 'uint8')\n",
    "#cv2.imwrite('revelada.jpg',gamma_corrected)"
   ]
  },
  {
   "cell_type": "markdown",
   "id": "d4b4e285-c420-4b59-8df7-e9759e9741d7",
   "metadata": {},
   "source": [
    "- *Pela equalização do histograma*"
   ]
  },
  {
   "cell_type": "code",
   "execution_count": null,
   "id": "0f8e8d79-fa79-4f3d-bc38-3a086fac46e7",
   "metadata": {},
   "outputs": [],
   "source": [
    "img = cv2.imread('imgPB.jpg')\n",
    "img_aux = cv2.cvtColor(img,cv2.COLOR_BGR2YUV)\n",
    "img_aux[:,:,0] = cv2.equalizeHist(img_aux[:,:,0])\n",
    "hist_equaliza= cv2.cvtColor(img_aux, cv2.COLOR_YUV2BGR)"
   ]
  },
  {
   "cell_type": "markdown",
   "id": "3aba7fcd-b1f8-422c-b6ed-71c8413e0cec",
   "metadata": {},
   "source": [
    "## Salvando a Imagem Final Revelada"
   ]
  },
  {
   "cell_type": "code",
   "execution_count": null,
   "id": "02f38e32-a630-4b28-91f5-1d750297ffe9",
   "metadata": {},
   "outputs": [],
   "source": [
    "cv2.imwrite('revelada.jpg',hist_equaliza)"
   ]
  }
 ],
 "metadata": {
  "kernelspec": {
   "display_name": "Python 3",
   "language": "python",
   "name": "python3"
  },
  "language_info": {
   "codemirror_mode": {
    "name": "ipython",
    "version": 3
   },
   "file_extension": ".py",
   "mimetype": "text/x-python",
   "name": "python",
   "nbconvert_exporter": "python",
   "pygments_lexer": "ipython3",
   "version": "3.9.6"
  }
 },
 "nbformat": 4,
 "nbformat_minor": 5
}
