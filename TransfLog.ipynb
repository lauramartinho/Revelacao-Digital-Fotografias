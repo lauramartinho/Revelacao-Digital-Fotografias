{
 "cells": [
  {
   "cell_type": "code",
   "execution_count": 4,
   "id": "84dc3ac5-9f54-4e9f-be2d-b6f7c4e23bb0",
   "metadata": {},
   "outputs": [
    {
     "data": {
      "text/plain": [
       "True"
      ]
     },
     "execution_count": 4,
     "metadata": {},
     "output_type": "execute_result"
    }
   ],
   "source": [
    "import cv2\n",
    "import numpy as np\n",
    "  \n",
    "# Open the image.\n",
    "img = cv2.imread('sources/fotopb3.jpg')\n",
    "  \n",
    "# Apply log transform.\n",
    "c = 255/(np.log(1 + np.max(img)))\n",
    "log_transformed = c * np.log(1 + img)\n",
    "  \n",
    "# Specify the data type.\n",
    "log_transformed = np.array(log_transformed, dtype = np.uint8)\n",
    "  \n",
    "# Save the output.\n",
    "cv2.imwrite('log_transformed.jpg', log_transformed)"
   ]
  },
  {
   "cell_type": "code",
   "execution_count": null,
   "id": "d07b7269-3132-4c28-8663-c74346620251",
   "metadata": {},
   "outputs": [],
   "source": []
  }
 ],
 "metadata": {
  "kernelspec": {
   "display_name": "Python 3",
   "language": "python",
   "name": "python3"
  },
  "language_info": {
   "codemirror_mode": {
    "name": "ipython",
    "version": 3
   },
   "file_extension": ".py",
   "mimetype": "text/x-python",
   "name": "python",
   "nbconvert_exporter": "python",
   "pygments_lexer": "ipython3",
   "version": "3.9.6"
  }
 },
 "nbformat": 4,
 "nbformat_minor": 5
}
