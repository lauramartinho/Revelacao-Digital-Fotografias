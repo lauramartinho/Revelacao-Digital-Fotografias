{
 "cells": [
  {
   "cell_type": "code",
   "execution_count": 17,
   "id": "8d90f5d1-a74d-42d9-b47a-ac901d717ef0",
   "metadata": {},
   "outputs": [],
   "source": [
    "import cv2\n",
    "import numpy as np\n",
    "  \n",
    "# Open the image.\n",
    "img = cv2.imread('st.jpg')\n",
    "  \n",
    "# Trying 4 gamma values.\n",
    "for gamma in [0.1]: #0.1, 0.5, 1.2, 2.2\n",
    "      \n",
    "    # Apply gamma correction.\n",
    "    gamma_corrected = np.array(255*(img / 255) ** gamma, dtype = 'uint8')\n",
    "  \n",
    "    # Save edited images.\n",
    "    cv2.imwrite('gamma_transformed'+str(gamma)+'.jpg', gamma_corrected)"
   ]
  },
  {
   "cell_type": "code",
   "execution_count": null,
   "id": "e15a9761-ec28-482f-b5c9-5366dec66727",
   "metadata": {},
   "outputs": [],
   "source": []
  }
 ],
 "metadata": {
  "kernelspec": {
   "display_name": "Python 3",
   "language": "python",
   "name": "python3"
  },
  "language_info": {
   "codemirror_mode": {
    "name": "ipython",
    "version": 3
   },
   "file_extension": ".py",
   "mimetype": "text/x-python",
   "name": "python",
   "nbconvert_exporter": "python",
   "pygments_lexer": "ipython3",
   "version": "3.9.6"
  }
 },
 "nbformat": 4,
 "nbformat_minor": 5
}
